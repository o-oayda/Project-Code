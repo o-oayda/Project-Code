{
 "cells": [
  {
   "cell_type": "markdown",
   "metadata": {},
   "source": [
    "## Generate Light Curve\n",
    "$SF_\\infty = \\hat{\\sigma} \\sqrt{\\tau}$ and $\\sigma = \\hat{\\sigma} \\sqrt{\\tau / 2} = SF_\\infty / \\sqrt{2}$."
   ]
  },
  {
   "cell_type": "code",
   "execution_count": 23,
   "metadata": {},
   "outputs": [],
   "source": [
    "import numpy as np\n",
    "\n",
    "# set parameters\n",
    "tau = 100 #signal decorrelation timescale in days\n",
    "sf = 0.2\n",
    "sigma_hat = sf/np.sqrt(tau) # modified variability amplitude\n",
    "sigma = sf/np.sqrt(2)\n",
    "delta_t = 0.5 # observational cadence delta_t = t_i+1 - t_i in days\n",
    "duration = 4000 # in days\n",
    "mean_mag = 18\n",
    "n_epochs = int(duration/delta_t)\n",
    "s = np.zeros(n_epochs)\n",
    "ts = np.zeros(n_epochs)\n",
    "\n",
    "for t in range(0,n_epochs):\n",
    "    if t == 0:\n",
    "        s[t] = np.random.normal(loc=0,scale=sigma) #for the 0th point, draw from Gaussian deviate of width sigma\n",
    "        ts[t] = t*delta_t \n",
    "        # print('Here! t = ' + str(t))\n",
    "    else:\n",
    "        s[t] = s[t-1]*np.exp(-delta_t/tau) + np.random.normal(loc=0,scale=sigma*np.sqrt(1-np.exp(-2*delta_t/tau)))\n",
    "        ts[t] = t*delta_t\n",
    "        # print('Here! t = ' + str(t))\n",
    "\n",
    "photometric_noise = np.random.normal(loc=0,scale=0.01,size=len(s))\n",
    "# light curve is actually s + Gaussian noise + mean magnitude\n",
    "y = s + mean_mag + photometric_noise"
   ]
  },
  {
   "cell_type": "markdown",
   "metadata": {},
   "source": [
    "## Plot DRW Light Curve"
   ]
  },
  {
   "cell_type": "code",
   "execution_count": 24,
   "metadata": {},
   "outputs": [
    {
     "data": {
      "image/png": "[encoded data removed]",
      "text/plain": [
       "<Figure size 432x288 with 1 Axes>"
      ]
     },
     "metadata": {
      "needs_background": "light"
     },
     "output_type": "display_data"
    }
   ],
   "source": [
    "import matplotlib\n",
    "import matplotlib.pyplot as plt\n",
    "\n",
    "plt.plot(ts,y)\n",
    "plt.xlabel('Time (days)')\n",
    "plt.ylabel('Magnitude')\n",
    "plt.title('DRW Light Curve: $\\\\tau = {}$'.format(tau) + ', $SF_\\\\infty = {}$'.format(sf))\n",
    "\n",
    "plt.show()\n",
    "# plt.savefig(\"Report Figures/drw-light-curve.pdf\", bbox_inches='tight')\n"
   ]
  },
  {
   "cell_type": "markdown",
   "metadata": {},
   "source": [
    "## Export to .dat\n",
    "Three column format with (1) epoch, (2) magnitude/light curve value and (3) uncertainty on point."
   ]
  },
  {
   "cell_type": "code",
   "execution_count": 32,
   "metadata": {},
   "outputs": [],
   "source": [
    "import struct\n",
    "import pandas as pd\n",
    "\n",
    "# units in days\n",
    "cadences = [0.5,1,2,3,5,10]\n",
    "seasonal_gap = 100\n",
    "durations = [tau/2,tau,2*tau,5*tau,10*tau,20*tau,40*tau]\n",
    "\n",
    "# apply duration limit in days (slice)\n",
    "for d in durations:\n",
    "    ts_sliced = ts[0:int(d/delta_t)]\n",
    "    y_sliced = y[0:int(d/delta_t)]\n",
    "    photometric_noise_sliced = photometric_noise[0:int(d/delta_t)]\n",
    "\n",
    "    # apply cadence\n",
    "    for c in cadences:\n",
    "        # depending on cadence, sample every nth step from the sliced curve\n",
    "        ts_cadenced = ts_sliced[0::int(c/delta_t)]\n",
    "        y_cadenced = y_sliced[0::int(c/delta_t)]\n",
    "        photometric_noise_cadenced = photometric_noise_sliced[\n",
    "            0::int(c/delta_t)]\n",
    "        \n",
    "        # final data to be saved\n",
    "        ts_final = ts_cadenced\n",
    "        y_final = y_cadenced\n",
    "        photometric_noise_final = photometric_noise_cadenced\n",
    "        \n",
    "        the_data = np.zeros((len(ts_final),3))\n",
    "        the_data[:,0] = ts_final\n",
    "        the_data[:,1] = y_final\n",
    "        the_data[:,2] = photometric_noise_final\n",
    "\n",
    "        df = pd.DataFrame(the_data)\n",
    "        df.to_csv(\n",
    "            'DRW Results/' + 'curve-d' + str(d) + '-c' +\n",
    "            str(c) + '.dat', header=False, index=False, sep=' ')\n",
    "\n",
    "# apply windowing\n",
    "## after 100 days, remove data for 100 days, then resume\n",
    "# ts_reshaped = np.reshape(ts, (int(duration/season), int(season/cadence)))\n",
    "# for w in range(0,len(ts)):"
   ]
  },
  {
   "cell_type": "markdown",
   "metadata": {},
   "source": [
    "## Interpret Light Curve with JAVELIN\n",
    "### Plot the Curve with JAVELIN"
   ]
  },
  {
   "cell_type": "code",
   "execution_count": 33,
   "metadata": {},
   "outputs": [
    {
     "ename": "ImportError",
     "evalue": "DLL load failed while importing linalg_utils: The specified module could not be found.",
     "output_type": "error",
     "traceback": [
      "\u001b[1;31m---------------------------------------------------------------------------\u001b[0m",
      "\u001b[1;31mImportError\u001b[0m                               Traceback (most recent call last)",
      "\u001b[1;32mc:\\Users\\oayda\\Desktop\\Project-Code\\light-curve.ipynb Cell 8\u001b[0m in \u001b[0;36m<module>\u001b[1;34m\u001b[0m\n\u001b[1;32m----> <a href='vscode-notebook-cell:/c%3A/Users/oayda/Desktop/Project-Code/light-curve.ipynb#X10sZmlsZQ%3D%3D?line=0'>1</a>\u001b[0m \u001b[39mfrom\u001b[39;00m \u001b[39mjavelin\u001b[39;00m\u001b[39m.\u001b[39;00m\u001b[39mzylc\u001b[39;00m \u001b[39mimport\u001b[39;00m get_data\n\u001b[0;32m      <a href='vscode-notebook-cell:/c%3A/Users/oayda/Desktop/Project-Code/light-curve.ipynb#X10sZmlsZQ%3D%3D?line=1'>2</a>\u001b[0m javdata \u001b[39m=\u001b[39m get_data(\n\u001b[0;32m      <a href='vscode-notebook-cell:/c%3A/Users/oayda/Desktop/Project-Code/light-curve.ipynb#X10sZmlsZQ%3D%3D?line=2'>3</a>\u001b[0m     [\u001b[39m\"\u001b[39m\u001b[39mDRW Results/\u001b[39m\u001b[39m\"\u001b[39m \u001b[39m+\u001b[39m \u001b[39m\"\u001b[39m\u001b[39mcurve-d50.0-c0.5\u001b[39m\u001b[39m\"\u001b[39m \u001b[39m+\u001b[39m \u001b[39m\"\u001b[39m\u001b[39m.dat\u001b[39m\u001b[39m\"\u001b[39m],\n\u001b[0;32m      <a href='vscode-notebook-cell:/c%3A/Users/oayda/Desktop/Project-Code/light-curve.ipynb#X10sZmlsZQ%3D%3D?line=3'>4</a>\u001b[0m      names\u001b[39m=\u001b[39m[\u001b[39m\"\u001b[39m\u001b[39m$\u001b[39m\u001b[39m\\\\\u001b[39;00m\u001b[39mtau = 100$ days light curve\u001b[39m\u001b[39m\"\u001b[39m,])\n\u001b[0;32m      <a href='vscode-notebook-cell:/c%3A/Users/oayda/Desktop/Project-Code/light-curve.ipynb#X10sZmlsZQ%3D%3D?line=4'>5</a>\u001b[0m javdata\u001b[39m.\u001b[39mplot()\n",
      "File \u001b[1;32mc:\\Users\\oayda\\AppData\\Local\\Programs\\Python\\Python310\\lib\\site-packages\\javelin\\__init__.py:2\u001b[0m, in \u001b[0;36m<module>\u001b[1;34m\u001b[0m\n\u001b[0;32m      1\u001b[0m \u001b[39mfrom\u001b[39;00m \u001b[39m__future__\u001b[39;00m \u001b[39mimport\u001b[39;00m absolute_import\n\u001b[1;32m----> 2\u001b[0m \u001b[39mfrom\u001b[39;00m \u001b[39m.\u001b[39;00m \u001b[39mimport\u001b[39;00m gp\n\u001b[0;32m      3\u001b[0m \u001b[39mfrom\u001b[39;00m \u001b[39m.\u001b[39;00m \u001b[39mimport\u001b[39;00m emcee_internal\n\u001b[0;32m      4\u001b[0m \u001b[39mfrom\u001b[39;00m \u001b[39m.\u001b[39;00m \u001b[39mimport\u001b[39;00m cov\n",
      "File \u001b[1;32mc:\\Users\\oayda\\AppData\\Local\\Programs\\Python\\Python310\\lib\\site-packages\\javelin\\gp\\__init__.py:19\u001b[0m, in \u001b[0;36m<module>\u001b[1;34m\u001b[0m\n\u001b[0;32m      6\u001b[0m chunksize \u001b[39m=\u001b[39m \u001b[39m1e8\u001b[39m\n\u001b[0;32m      8\u001b[0m __modules__ \u001b[39m=\u001b[39m [ \u001b[39m'\u001b[39m\u001b[39mGPutils\u001b[39m\u001b[39m'\u001b[39m,\n\u001b[0;32m      9\u001b[0m                 \u001b[39m'\u001b[39m\u001b[39mMean\u001b[39m\u001b[39m'\u001b[39m,\n\u001b[0;32m     10\u001b[0m                 \u001b[39m'\u001b[39m\u001b[39mCovariance\u001b[39m\u001b[39m'\u001b[39m,\n\u001b[1;32m   (...)\u001b[0m\n\u001b[0;32m     15\u001b[0m                 \u001b[39m'\u001b[39m\u001b[39mcov_funs\u001b[39m\u001b[39m'\u001b[39m,\n\u001b[0;32m     16\u001b[0m               ]\n\u001b[1;32m---> 19\u001b[0m \u001b[39mfrom\u001b[39;00m \u001b[39m.\u001b[39;00m\u001b[39mGPutils\u001b[39;00m \u001b[39mimport\u001b[39;00m \u001b[39m*\u001b[39m\n\u001b[0;32m     20\u001b[0m \u001b[39mfrom\u001b[39;00m \u001b[39m.\u001b[39;00m\u001b[39mMean\u001b[39;00m \u001b[39mimport\u001b[39;00m \u001b[39m*\u001b[39m\n\u001b[0;32m     21\u001b[0m \u001b[39mfrom\u001b[39;00m \u001b[39m.\u001b[39;00m\u001b[39mCovariance\u001b[39;00m \u001b[39mimport\u001b[39;00m \u001b[39m*\u001b[39m\n",
      "File \u001b[1;32mc:\\Users\\oayda\\AppData\\Local\\Programs\\Python\\Python310\\lib\\site-packages\\javelin\\gp\\GPutils.py:17\u001b[0m, in \u001b[0;36m<module>\u001b[1;34m\u001b[0m\n\u001b[0;32m     15\u001b[0m \u001b[39mfrom\u001b[39;00m \u001b[39mnumpy\u001b[39;00m\u001b[39m.\u001b[39;00m\u001b[39mlinalg\u001b[39;00m \u001b[39mimport\u001b[39;00m solve, cholesky, eigh\n\u001b[0;32m     16\u001b[0m \u001b[39mfrom\u001b[39;00m \u001b[39mnumpy\u001b[39;00m\u001b[39m.\u001b[39;00m\u001b[39mlinalg\u001b[39;00m\u001b[39m.\u001b[39;00m\u001b[39mlinalg\u001b[39;00m \u001b[39mimport\u001b[39;00m LinAlgError\n\u001b[1;32m---> 17\u001b[0m \u001b[39mfrom\u001b[39;00m \u001b[39mjavelin\u001b[39;00m\u001b[39m.\u001b[39;00m\u001b[39mgp\u001b[39;00m\u001b[39m.\u001b[39;00m\u001b[39mlinalg_utils\u001b[39;00m \u001b[39mimport\u001b[39;00m \u001b[39m*\u001b[39m\n\u001b[0;32m     18\u001b[0m \u001b[39mfrom\u001b[39;00m \u001b[39mthreading\u001b[39;00m \u001b[39mimport\u001b[39;00m Thread, Lock\n\u001b[0;32m     19\u001b[0m \u001b[39mimport\u001b[39;00m \u001b[39msys\u001b[39;00m\n",
      "\u001b[1;31mImportError\u001b[0m: DLL load failed while importing linalg_utils: The specified module could not be found."
     ]
    }
   ],
   "source": [
    "from javelin.zylc import get_data\n",
    "javdata = get_data(\n",
    "    [\"DRW Results/\" + \"curve-d50.0-c0.5\" + \".dat\"],\n",
    "     names=[\"$\\\\tau = 100$ days light curve\",])\n",
    "javdata.plot()"
   ]
  },
  {
   "cell_type": "markdown",
   "metadata": {},
   "source": [
    "### MCMC the Light Curve"
   ]
  },
  {
   "cell_type": "code",
   "execution_count": 39,
   "metadata": {},
   "outputs": [
    {
     "name": "stdout",
     "output_type": "stream",
     "text": [
      "start burn-in\n",
      "nburn: 50 nwalkers: 100 --> number of burn-in iterations: 5000\n",
      "burn-in finished\n",
      "start sampling\n",
      "sampling finished\n",
      "acceptance fractions for all walkers are\n",
      "0.84 0.68 0.64 0.62 0.62 0.56 0.80 0.70 0.72 0.78 0.68 0.62 0.78 0.78 0.88 0.68 0.78 0.78 0.72 0.70 0.78 0.74 0.74 0.78 0.78 0.78 0.70 0.62 0.66 0.72 0.86 0.64 0.84 0.66 0.72 0.70 0.76 0.74 0.78 0.62 0.82 0.76 0.60 0.68 0.56 0.60 0.78 0.48 0.76 0.68 0.82 0.80 0.76 0.78 0.74 0.82 0.76 0.62 0.66 0.66 0.74 0.74 0.74 0.84 0.68 0.80 0.66 0.58 0.78 0.62 0.70 0.74 0.80 0.82 0.70 0.64 0.74 0.74 0.70 0.64 0.74 0.76 0.48 0.82 0.66 0.76 0.56 0.66 0.70 0.50 0.76 0.58 0.66 0.72 0.66 0.72 0.80 0.84 0.82 0.72\n",
      "save MCMC chains to mychain0.dat\n",
      "save logp of MCMC chains to mylogp.dat\n",
      "HPD of sigma\n",
      "low:    0.129 med    0.155 hig    0.200\n",
      "HPD of tau\n",
      "low:   58.950 med   85.833 hig  144.019\n"
     ]
    }
   ],
   "source": [
    "from javelin.lcmodel import Cont_Model\n",
    "cont = Cont_Model(javdata)\n",
    "\n",
    "cont.do_mcmc(fchain=\"mychain0.dat\",flogp=\"mylogp.dat\")\n",
    "# nwalkers=8,nburn=10,nchain=10,\n"
   ]
  },
  {
   "cell_type": "code",
   "execution_count": 40,
   "metadata": {},
   "outputs": [
    {
     "data": {
      "image/png": "[encoded data removed]",
      "text/plain": [
       "<Figure size 576x360 with 2 Axes>"
      ]
     },
     "metadata": {
      "needs_background": "light"
     },
     "output_type": "display_data"
    },
    {
     "name": "stdout",
     "output_type": "stream",
     "text": [
      "HPD of sigma\n",
      "low:    0.129 med    0.155 hig    0.200\n",
      "HPD of tau\n",
      "low:   58.950 med   85.833 hig  144.019\n",
      "None\n"
     ]
    }
   ],
   "source": [
    "cont.show_hist(bins=100)\n",
    "\n",
    "conthpd = cont.get_hpd()\n",
    "print(conthpd)\n",
    "#truths\n",
    "# true_sigma = np.log(sigma)\n",
    "# true_tau = np.log(tau)"
   ]
  },
  {
   "cell_type": "markdown",
   "metadata": {},
   "source": [
    "# Previous attempts"
   ]
  },
  {
   "cell_type": "code",
   "execution_count": null,
   "metadata": {},
   "outputs": [],
   "source": [
    "# covariance matrix\n",
    "S = np.zeros((len(t),len(t)))\n",
    "for i in range(0,len(t)):\n",
    "    for j in range(0,len(t)):\n",
    "        S[i,j] = sigma**2 * np.exp(-np.abs(t[i] - t[j]) / tau)\n",
    "\n",
    "# response matrix L (actually a column vector)\n",
    "L = np.ones((len(y), 1))\n",
    "# linear coefficient representing the light curve mean\n",
    "q = mean_mag\n",
    "C = S + np.eye((len(S)))\n",
    "\n",
    "C_inverse = np.linalg.inv(C)\n",
    "bracket = np.matmul(np.matmul(L.T, C_inverse), L)\n",
    "bracket_inverse = np.linalg.inv(bracket)\n",
    "rh_term = np.matmul(\n",
    "    np.matmul(np.matmul(np.matmul(C_inverse, L), bracket_inverse), L.T), C_inverse)\n",
    "C_perp_inverse = C_inverse - rh_term\n",
    "\n",
    "likelihood = (np.linalg.det(C))**(-0.5) * np.linalg.det(bracket)**(-0.5) * np.exp(- np.matmul(np.matmul(y.T,C_perp_inverse),y) / 2)"
   ]
  },
  {
   "cell_type": "code",
   "execution_count": 87,
   "metadata": {},
   "outputs": [
    {
     "name": "stderr",
     "output_type": "stream",
     "text": [
      "4568it [1:37:53,  3.09s/it, batch: 0 | bound: 867 | nc: 228 | ncall: 817007 | eff(%):  0.559 | loglstar:   -inf < 975.646 <    inf | logz: 962.771 +/-  0.217 | dlogz: 294.575 >  0.010] Traceback (most recent call last):\n",
      "  File \"/opt/homebrew/Caskroom/miniforge/base/lib/python3.9/site-packages/dynesty/dynesty.py\", line 982, in __call__\n",
      "    return self.func(x, *self.args, **self.kwargs)\n",
      "  File \"/var/folders/f0/bpm69fqn0jl4w0k0w01_lftw0000gn/T/ipykernel_67928/3030410087.py\", line 29, in lnlike\n",
      "    y_val = model(time_scale,amp)\n",
      "  File \"/var/folders/f0/bpm69fqn0jl4w0k0w01_lftw0000gn/T/ipykernel_67928/3030410087.py\", line 16, in model\n",
      "    s[t] = s[t-1]*np.exp(-delta_t/time_scale) + np.random.normal(loc=0,scale=sigma*np.sqrt(1-np.exp(-2*delta_t/time_scale)))\n",
      "KeyboardInterrupt\n",
      "4568it [1:37:53,  1.29s/it, batch: 0 | bound: 867 | nc: 228 | ncall: 817007 | eff(%):  0.559 | loglstar:   -inf < 975.646 <    inf | logz: 962.771 +/-  0.217 | dlogz: 294.575 >  0.010]"
     ]
    },
    {
     "name": "stdout",
     "output_type": "stream",
     "text": [
      "Exception while calling loglikelihood function:\n",
      "  params: [5.52139114e+01 1.19443173e-02]\n",
      "  args: []\n",
      "  kwargs: {}\n",
      "  exception:\n"
     ]
    },
    {
     "name": "stderr",
     "output_type": "stream",
     "text": [
      "\n"
     ]
    },
    {
     "ename": "KeyboardInterrupt",
     "evalue": "",
     "output_type": "error",
     "traceback": [
      "\u001b[0;31m---------------------------------------------------------------------------\u001b[0m",
      "\u001b[0;31mKeyboardInterrupt\u001b[0m                         Traceback (most recent call last)",
      "\u001b[1;32m/Users/oliveroayda/Dropbox (Maestral)/New Physics/Honours/Project/Code/light-curve.ipynb Cell 4'\u001b[0m in \u001b[0;36m<cell line: 33>\u001b[0;34m()\u001b[0m\n\u001b[1;32m     <a href='vscode-notebook-cell:/Users/oliveroayda/Dropbox%20%28Maestral%29/New%20Physics/Honours/Project/Code/light-curve.ipynb#ch0000003?line=29'>30</a>\u001b[0m     \u001b[39mreturn\u001b[39;00m \u001b[39msum\u001b[39m(sts\u001b[39m.\u001b[39mnorm\u001b[39m.\u001b[39mlogpdf(y,loc\u001b[39m=\u001b[39my_val,scale\u001b[39m=\u001b[39msigma))\n\u001b[1;32m     <a href='vscode-notebook-cell:/Users/oliveroayda/Dropbox%20%28Maestral%29/New%20Physics/Honours/Project/Code/light-curve.ipynb#ch0000003?line=31'>32</a>\u001b[0m dsampler \u001b[39m=\u001b[39m dynesty\u001b[39m.\u001b[39mDynamicNestedSampler(lnlike, prior_transform, ndim\u001b[39m=\u001b[39m\u001b[39m2\u001b[39m)\n\u001b[0;32m---> <a href='vscode-notebook-cell:/Users/oliveroayda/Dropbox%20%28Maestral%29/New%20Physics/Honours/Project/Code/light-curve.ipynb#ch0000003?line=32'>33</a>\u001b[0m dsampler\u001b[39m.\u001b[39;49mrun_nested(print_progress\u001b[39m=\u001b[39;49m\u001b[39mTrue\u001b[39;49;00m)\n",
      "File \u001b[0;32m/opt/homebrew/Caskroom/miniforge/base/lib/python3.9/site-packages/dynesty/dynamicsampler.py:1619\u001b[0m, in \u001b[0;36mDynamicSampler.run_nested\u001b[0;34m(self, nlive_init, maxiter_init, maxcall_init, dlogz_init, logl_max_init, n_effective_init, nlive_batch, wt_function, wt_kwargs, maxiter_batch, maxcall_batch, maxiter, maxcall, maxbatch, n_effective, stop_function, stop_kwargs, use_stop, save_bounds, print_progress, print_func, live_points)\u001b[0m\n\u001b[1;32m   <a href='file:///opt/homebrew/Caskroom/miniforge/base/lib/python3.9/site-packages/dynesty/dynamicsampler.py?line=1616'>1617</a>\u001b[0m \u001b[39mtry\u001b[39;00m:\n\u001b[1;32m   <a href='file:///opt/homebrew/Caskroom/miniforge/base/lib/python3.9/site-packages/dynesty/dynamicsampler.py?line=1617'>1618</a>\u001b[0m     \u001b[39mif\u001b[39;00m \u001b[39mnot\u001b[39;00m \u001b[39mself\u001b[39m\u001b[39m.\u001b[39mbase:\n\u001b[0;32m-> <a href='file:///opt/homebrew/Caskroom/miniforge/base/lib/python3.9/site-packages/dynesty/dynamicsampler.py?line=1618'>1619</a>\u001b[0m         \u001b[39mfor\u001b[39;00m results \u001b[39min\u001b[39;00m \u001b[39mself\u001b[39m\u001b[39m.\u001b[39msample_initial(nlive\u001b[39m=\u001b[39mnlive_init,\n\u001b[1;32m   <a href='file:///opt/homebrew/Caskroom/miniforge/base/lib/python3.9/site-packages/dynesty/dynamicsampler.py?line=1619'>1620</a>\u001b[0m                                            dlogz\u001b[39m=\u001b[39mdlogz_init,\n\u001b[1;32m   <a href='file:///opt/homebrew/Caskroom/miniforge/base/lib/python3.9/site-packages/dynesty/dynamicsampler.py?line=1620'>1621</a>\u001b[0m                                            maxcall\u001b[39m=\u001b[39mmaxcall_init,\n\u001b[1;32m   <a href='file:///opt/homebrew/Caskroom/miniforge/base/lib/python3.9/site-packages/dynesty/dynamicsampler.py?line=1621'>1622</a>\u001b[0m                                            maxiter\u001b[39m=\u001b[39mmaxiter_init,\n\u001b[1;32m   <a href='file:///opt/homebrew/Caskroom/miniforge/base/lib/python3.9/site-packages/dynesty/dynamicsampler.py?line=1622'>1623</a>\u001b[0m                                            logl_max\u001b[39m=\u001b[39mlogl_max_init,\n\u001b[1;32m   <a href='file:///opt/homebrew/Caskroom/miniforge/base/lib/python3.9/site-packages/dynesty/dynamicsampler.py?line=1623'>1624</a>\u001b[0m                                            n_effective\u001b[39m=\u001b[39mn_effective_init,\n\u001b[1;32m   <a href='file:///opt/homebrew/Caskroom/miniforge/base/lib/python3.9/site-packages/dynesty/dynamicsampler.py?line=1624'>1625</a>\u001b[0m                                            live_points\u001b[39m=\u001b[39mlive_points):\n\u001b[1;32m   <a href='file:///opt/homebrew/Caskroom/miniforge/base/lib/python3.9/site-packages/dynesty/dynamicsampler.py?line=1625'>1626</a>\u001b[0m             (worst, ustar, vstar, loglstar, logvol,\n\u001b[1;32m   <a href='file:///opt/homebrew/Caskroom/miniforge/base/lib/python3.9/site-packages/dynesty/dynamicsampler.py?line=1626'>1627</a>\u001b[0m              logwt, logz, logzvar, h, nc, worst_it,\n\u001b[1;32m   <a href='file:///opt/homebrew/Caskroom/miniforge/base/lib/python3.9/site-packages/dynesty/dynamicsampler.py?line=1627'>1628</a>\u001b[0m              boundidx, bounditer, eff, delta_logz) \u001b[39m=\u001b[39m results\n\u001b[1;32m   <a href='file:///opt/homebrew/Caskroom/miniforge/base/lib/python3.9/site-packages/dynesty/dynamicsampler.py?line=1628'>1629</a>\u001b[0m             ncall \u001b[39m+\u001b[39m\u001b[39m=\u001b[39m nc\n",
      "File \u001b[0;32m/opt/homebrew/Caskroom/miniforge/base/lib/python3.9/site-packages/dynesty/dynamicsampler.py:838\u001b[0m, in \u001b[0;36mDynamicSampler.sample_initial\u001b[0;34m(self, nlive, update_interval, first_update, maxiter, maxcall, logl_max, dlogz, n_effective, live_points, save_samples, resume)\u001b[0m\n\u001b[1;32m    <a href='file:///opt/homebrew/Caskroom/miniforge/base/lib/python3.9/site-packages/dynesty/dynamicsampler.py?line=835'>836</a>\u001b[0m \u001b[39m# Run the sampler internally as a generator.\u001b[39;00m\n\u001b[1;32m    <a href='file:///opt/homebrew/Caskroom/miniforge/base/lib/python3.9/site-packages/dynesty/dynamicsampler.py?line=836'>837</a>\u001b[0m \u001b[39mfor\u001b[39;00m i \u001b[39min\u001b[39;00m \u001b[39mrange\u001b[39m(\u001b[39m1\u001b[39m):\n\u001b[0;32m--> <a href='file:///opt/homebrew/Caskroom/miniforge/base/lib/python3.9/site-packages/dynesty/dynamicsampler.py?line=837'>838</a>\u001b[0m     \u001b[39mfor\u001b[39;00m it, results \u001b[39min\u001b[39;00m \u001b[39menumerate\u001b[39m(\u001b[39mself\u001b[39m\u001b[39m.\u001b[39msampler\u001b[39m.\u001b[39msample(maxiter\u001b[39m=\u001b[39mmaxiter,\n\u001b[1;32m    <a href='file:///opt/homebrew/Caskroom/miniforge/base/lib/python3.9/site-packages/dynesty/dynamicsampler.py?line=838'>839</a>\u001b[0m                                  save_samples\u001b[39m=\u001b[39msave_samples,\n\u001b[1;32m    <a href='file:///opt/homebrew/Caskroom/miniforge/base/lib/python3.9/site-packages/dynesty/dynamicsampler.py?line=839'>840</a>\u001b[0m                                  maxcall\u001b[39m=\u001b[39mmaxcall, dlogz\u001b[39m=\u001b[39mdlogz,\n\u001b[1;32m    <a href='file:///opt/homebrew/Caskroom/miniforge/base/lib/python3.9/site-packages/dynesty/dynamicsampler.py?line=840'>841</a>\u001b[0m                                  n_effective\u001b[39m=\u001b[39mn_effective)):\n\u001b[1;32m    <a href='file:///opt/homebrew/Caskroom/miniforge/base/lib/python3.9/site-packages/dynesty/dynamicsampler.py?line=841'>842</a>\u001b[0m         \u001b[39m# Grab results.\u001b[39;00m\n\u001b[1;32m    <a href='file:///opt/homebrew/Caskroom/miniforge/base/lib/python3.9/site-packages/dynesty/dynamicsampler.py?line=842'>843</a>\u001b[0m         (worst, ustar, vstar, loglstar, logvol, logwt,\n\u001b[1;32m    <a href='file:///opt/homebrew/Caskroom/miniforge/base/lib/python3.9/site-packages/dynesty/dynamicsampler.py?line=843'>844</a>\u001b[0m          logz, logzvar, h, nc, worst_it, boundidx, bounditer,\n\u001b[1;32m    <a href='file:///opt/homebrew/Caskroom/miniforge/base/lib/python3.9/site-packages/dynesty/dynamicsampler.py?line=844'>845</a>\u001b[0m          eff, delta_logz) \u001b[39m=\u001b[39m results\n\u001b[1;32m    <a href='file:///opt/homebrew/Caskroom/miniforge/base/lib/python3.9/site-packages/dynesty/dynamicsampler.py?line=846'>847</a>\u001b[0m         \u001b[39m# Save our base run (which we will use later).\u001b[39;00m\n",
      "File \u001b[0;32m/opt/homebrew/Caskroom/miniforge/base/lib/python3.9/site-packages/dynesty/sampler.py:788\u001b[0m, in \u001b[0;36mSampler.sample\u001b[0;34m(self, maxiter, maxcall, dlogz, logl_max, n_effective, add_live, save_bounds, save_samples)\u001b[0m\n\u001b[1;32m    <a href='file:///opt/homebrew/Caskroom/miniforge/base/lib/python3.9/site-packages/dynesty/sampler.py?line=782'>783</a>\u001b[0m logwt \u001b[39m=\u001b[39m np\u001b[39m.\u001b[39mlogaddexp(loglstar_new, loglstar) \u001b[39m+\u001b[39m logdvol  \u001b[39m# ln(wt)\u001b[39;00m\n\u001b[1;32m    <a href='file:///opt/homebrew/Caskroom/miniforge/base/lib/python3.9/site-packages/dynesty/sampler.py?line=784'>785</a>\u001b[0m \u001b[39m# Sample a new live point from within the likelihood constraint\u001b[39;00m\n\u001b[1;32m    <a href='file:///opt/homebrew/Caskroom/miniforge/base/lib/python3.9/site-packages/dynesty/sampler.py?line=785'>786</a>\u001b[0m \u001b[39m# `logl > loglstar` using the bounding distribution and sampling\u001b[39;00m\n\u001b[1;32m    <a href='file:///opt/homebrew/Caskroom/miniforge/base/lib/python3.9/site-packages/dynesty/sampler.py?line=786'>787</a>\u001b[0m \u001b[39m# method from our sampler.\u001b[39;00m\n\u001b[0;32m--> <a href='file:///opt/homebrew/Caskroom/miniforge/base/lib/python3.9/site-packages/dynesty/sampler.py?line=787'>788</a>\u001b[0m u, v, logl, nc \u001b[39m=\u001b[39m \u001b[39mself\u001b[39;49m\u001b[39m.\u001b[39;49m_new_point(loglstar_new, logvol)\n\u001b[1;32m    <a href='file:///opt/homebrew/Caskroom/miniforge/base/lib/python3.9/site-packages/dynesty/sampler.py?line=788'>789</a>\u001b[0m ncall \u001b[39m+\u001b[39m\u001b[39m=\u001b[39m nc\n\u001b[1;32m    <a href='file:///opt/homebrew/Caskroom/miniforge/base/lib/python3.9/site-packages/dynesty/sampler.py?line=789'>790</a>\u001b[0m \u001b[39mself\u001b[39m\u001b[39m.\u001b[39mncall \u001b[39m+\u001b[39m\u001b[39m=\u001b[39m nc\n",
      "File \u001b[0;32m/opt/homebrew/Caskroom/miniforge/base/lib/python3.9/site-packages/dynesty/sampler.py:386\u001b[0m, in \u001b[0;36mSampler._new_point\u001b[0;34m(self, loglstar, logvol)\u001b[0m\n\u001b[1;32m    <a href='file:///opt/homebrew/Caskroom/miniforge/base/lib/python3.9/site-packages/dynesty/sampler.py?line=382'>383</a>\u001b[0m ncall, nupdate \u001b[39m=\u001b[39m \u001b[39m0\u001b[39m, \u001b[39m0\u001b[39m\n\u001b[1;32m    <a href='file:///opt/homebrew/Caskroom/miniforge/base/lib/python3.9/site-packages/dynesty/sampler.py?line=383'>384</a>\u001b[0m \u001b[39mwhile\u001b[39;00m \u001b[39mTrue\u001b[39;00m:\n\u001b[1;32m    <a href='file:///opt/homebrew/Caskroom/miniforge/base/lib/python3.9/site-packages/dynesty/sampler.py?line=384'>385</a>\u001b[0m     \u001b[39m# Get the next point from the queue\u001b[39;00m\n\u001b[0;32m--> <a href='file:///opt/homebrew/Caskroom/miniforge/base/lib/python3.9/site-packages/dynesty/sampler.py?line=385'>386</a>\u001b[0m     u, v, logl, nc, blob \u001b[39m=\u001b[39m \u001b[39mself\u001b[39;49m\u001b[39m.\u001b[39;49m_get_point_value(loglstar)\n\u001b[1;32m    <a href='file:///opt/homebrew/Caskroom/miniforge/base/lib/python3.9/site-packages/dynesty/sampler.py?line=386'>387</a>\u001b[0m     ncall \u001b[39m+\u001b[39m\u001b[39m=\u001b[39m nc\n\u001b[1;32m    <a href='file:///opt/homebrew/Caskroom/miniforge/base/lib/python3.9/site-packages/dynesty/sampler.py?line=388'>389</a>\u001b[0m     \u001b[39m# Bounding checks.\u001b[39;00m\n",
      "File \u001b[0;32m/opt/homebrew/Caskroom/miniforge/base/lib/python3.9/site-packages/dynesty/sampler.py:370\u001b[0m, in \u001b[0;36mSampler._get_point_value\u001b[0;34m(self, loglstar)\u001b[0m\n\u001b[1;32m    <a href='file:///opt/homebrew/Caskroom/miniforge/base/lib/python3.9/site-packages/dynesty/sampler.py?line=367'>368</a>\u001b[0m \u001b[39m# If the queue is empty, refill it.\u001b[39;00m\n\u001b[1;32m    <a href='file:///opt/homebrew/Caskroom/miniforge/base/lib/python3.9/site-packages/dynesty/sampler.py?line=368'>369</a>\u001b[0m \u001b[39mif\u001b[39;00m \u001b[39mself\u001b[39m\u001b[39m.\u001b[39mnqueue \u001b[39m<\u001b[39m\u001b[39m=\u001b[39m \u001b[39m0\u001b[39m:\n\u001b[0;32m--> <a href='file:///opt/homebrew/Caskroom/miniforge/base/lib/python3.9/site-packages/dynesty/sampler.py?line=369'>370</a>\u001b[0m     \u001b[39mself\u001b[39;49m\u001b[39m.\u001b[39;49m_fill_queue(loglstar)\n\u001b[1;32m    <a href='file:///opt/homebrew/Caskroom/miniforge/base/lib/python3.9/site-packages/dynesty/sampler.py?line=371'>372</a>\u001b[0m \u001b[39m# Grab the earliest entry.\u001b[39;00m\n\u001b[1;32m    <a href='file:///opt/homebrew/Caskroom/miniforge/base/lib/python3.9/site-packages/dynesty/sampler.py?line=372'>373</a>\u001b[0m u, v, logl, nc, blob \u001b[39m=\u001b[39m \u001b[39mself\u001b[39m\u001b[39m.\u001b[39mqueue\u001b[39m.\u001b[39mpop(\u001b[39m0\u001b[39m)\n",
      "File \u001b[0;32m/opt/homebrew/Caskroom/miniforge/base/lib/python3.9/site-packages/dynesty/sampler.py:359\u001b[0m, in \u001b[0;36mSampler._fill_queue\u001b[0;34m(self, loglstar)\u001b[0m\n\u001b[1;32m    <a href='file:///opt/homebrew/Caskroom/miniforge/base/lib/python3.9/site-packages/dynesty/sampler.py?line=353'>354</a>\u001b[0m args \u001b[39m=\u001b[39m \u001b[39mzip\u001b[39m(point_queue, loglstars, axes_queue,\n\u001b[1;32m    <a href='file:///opt/homebrew/Caskroom/miniforge/base/lib/python3.9/site-packages/dynesty/sampler.py?line=354'>355</a>\u001b[0m            scales, ptforms, logls, kwargs)\n\u001b[1;32m    <a href='file:///opt/homebrew/Caskroom/miniforge/base/lib/python3.9/site-packages/dynesty/sampler.py?line=356'>357</a>\u001b[0m \u001b[39mif\u001b[39;00m \u001b[39mself\u001b[39m\u001b[39m.\u001b[39muse_pool_evolve:\n\u001b[1;32m    <a href='file:///opt/homebrew/Caskroom/miniforge/base/lib/python3.9/site-packages/dynesty/sampler.py?line=357'>358</a>\u001b[0m     \u001b[39m# Use the pool to propose (\"evolve\") a new live point.\u001b[39;00m\n\u001b[0;32m--> <a href='file:///opt/homebrew/Caskroom/miniforge/base/lib/python3.9/site-packages/dynesty/sampler.py?line=358'>359</a>\u001b[0m     \u001b[39mself\u001b[39m\u001b[39m.\u001b[39mqueue \u001b[39m=\u001b[39m \u001b[39mlist\u001b[39;49m(\u001b[39mself\u001b[39;49m\u001b[39m.\u001b[39;49mM(evolve_point, args))\n\u001b[1;32m    <a href='file:///opt/homebrew/Caskroom/miniforge/base/lib/python3.9/site-packages/dynesty/sampler.py?line=359'>360</a>\u001b[0m \u001b[39melse\u001b[39;00m:\n\u001b[1;32m    <a href='file:///opt/homebrew/Caskroom/miniforge/base/lib/python3.9/site-packages/dynesty/sampler.py?line=360'>361</a>\u001b[0m     \u001b[39m# Propose (\"evolve\") a new live point using the default `map`\u001b[39;00m\n\u001b[1;32m    <a href='file:///opt/homebrew/Caskroom/miniforge/base/lib/python3.9/site-packages/dynesty/sampler.py?line=361'>362</a>\u001b[0m     \u001b[39m# function.\u001b[39;00m\n\u001b[1;32m    <a href='file:///opt/homebrew/Caskroom/miniforge/base/lib/python3.9/site-packages/dynesty/sampler.py?line=362'>363</a>\u001b[0m     \u001b[39mself\u001b[39m\u001b[39m.\u001b[39mqueue \u001b[39m=\u001b[39m \u001b[39mlist\u001b[39m(\u001b[39mmap\u001b[39m(evolve_point, args))\n",
      "File \u001b[0;32m/opt/homebrew/Caskroom/miniforge/base/lib/python3.9/site-packages/dynesty/sampling.py:90\u001b[0m, in \u001b[0;36msample_unif\u001b[0;34m(args)\u001b[0m\n\u001b[1;32m     <a href='file:///opt/homebrew/Caskroom/miniforge/base/lib/python3.9/site-packages/dynesty/sampling.py?line=87'>88</a>\u001b[0m \u001b[39m# Evaluate.\u001b[39;00m\n\u001b[1;32m     <a href='file:///opt/homebrew/Caskroom/miniforge/base/lib/python3.9/site-packages/dynesty/sampling.py?line=88'>89</a>\u001b[0m v \u001b[39m=\u001b[39m prior_transform(np\u001b[39m.\u001b[39marray(u))\n\u001b[0;32m---> <a href='file:///opt/homebrew/Caskroom/miniforge/base/lib/python3.9/site-packages/dynesty/sampling.py?line=89'>90</a>\u001b[0m logl \u001b[39m=\u001b[39m loglikelihood(np\u001b[39m.\u001b[39;49marray(v))\n\u001b[1;32m     <a href='file:///opt/homebrew/Caskroom/miniforge/base/lib/python3.9/site-packages/dynesty/sampling.py?line=90'>91</a>\u001b[0m nc \u001b[39m=\u001b[39m \u001b[39m1\u001b[39m\n\u001b[1;32m     <a href='file:///opt/homebrew/Caskroom/miniforge/base/lib/python3.9/site-packages/dynesty/sampling.py?line=91'>92</a>\u001b[0m blob \u001b[39m=\u001b[39m \u001b[39mNone\u001b[39;00m\n",
      "File \u001b[0;32m/opt/homebrew/Caskroom/miniforge/base/lib/python3.9/site-packages/dynesty/dynesty.py:982\u001b[0m, in \u001b[0;36m_function_wrapper.__call__\u001b[0;34m(self, x)\u001b[0m\n\u001b[1;32m    <a href='file:///opt/homebrew/Caskroom/miniforge/base/lib/python3.9/site-packages/dynesty/dynesty.py?line=979'>980</a>\u001b[0m \u001b[39mdef\u001b[39;00m \u001b[39m__call__\u001b[39m(\u001b[39mself\u001b[39m, x):\n\u001b[1;32m    <a href='file:///opt/homebrew/Caskroom/miniforge/base/lib/python3.9/site-packages/dynesty/dynesty.py?line=980'>981</a>\u001b[0m     \u001b[39mtry\u001b[39;00m:\n\u001b[0;32m--> <a href='file:///opt/homebrew/Caskroom/miniforge/base/lib/python3.9/site-packages/dynesty/dynesty.py?line=981'>982</a>\u001b[0m         \u001b[39mreturn\u001b[39;00m \u001b[39mself\u001b[39;49m\u001b[39m.\u001b[39;49mfunc(x, \u001b[39m*\u001b[39;49m\u001b[39mself\u001b[39;49m\u001b[39m.\u001b[39;49margs, \u001b[39m*\u001b[39;49m\u001b[39m*\u001b[39;49m\u001b[39mself\u001b[39;49m\u001b[39m.\u001b[39;49mkwargs)\n\u001b[1;32m    <a href='file:///opt/homebrew/Caskroom/miniforge/base/lib/python3.9/site-packages/dynesty/dynesty.py?line=982'>983</a>\u001b[0m     \u001b[39mexcept\u001b[39;00m:\n\u001b[1;32m    <a href='file:///opt/homebrew/Caskroom/miniforge/base/lib/python3.9/site-packages/dynesty/dynesty.py?line=983'>984</a>\u001b[0m         \u001b[39mimport\u001b[39;00m \u001b[39mtraceback\u001b[39;00m\n",
      "\u001b[1;32m/Users/oliveroayda/Dropbox (Maestral)/New Physics/Honours/Project/Code/light-curve.ipynb Cell 4'\u001b[0m in \u001b[0;36mlnlike\u001b[0;34m(Theta)\u001b[0m\n\u001b[1;32m     <a href='vscode-notebook-cell:/Users/oliveroayda/Dropbox%20%28Maestral%29/New%20Physics/Honours/Project/Code/light-curve.ipynb#ch0000003?line=26'>27</a>\u001b[0m \u001b[39mdef\u001b[39;00m \u001b[39mlnlike\u001b[39m(Theta):\n\u001b[1;32m     <a href='vscode-notebook-cell:/Users/oliveroayda/Dropbox%20%28Maestral%29/New%20Physics/Honours/Project/Code/light-curve.ipynb#ch0000003?line=27'>28</a>\u001b[0m     time_scale, amp \u001b[39m=\u001b[39m Theta\n\u001b[0;32m---> <a href='vscode-notebook-cell:/Users/oliveroayda/Dropbox%20%28Maestral%29/New%20Physics/Honours/Project/Code/light-curve.ipynb#ch0000003?line=28'>29</a>\u001b[0m     y_val \u001b[39m=\u001b[39m model(time_scale,amp)\n\u001b[1;32m     <a href='vscode-notebook-cell:/Users/oliveroayda/Dropbox%20%28Maestral%29/New%20Physics/Honours/Project/Code/light-curve.ipynb#ch0000003?line=29'>30</a>\u001b[0m     \u001b[39mreturn\u001b[39;00m \u001b[39msum\u001b[39m(sts\u001b[39m.\u001b[39mnorm\u001b[39m.\u001b[39mlogpdf(y,loc\u001b[39m=\u001b[39my_val,scale\u001b[39m=\u001b[39msigma))\n",
      "\u001b[1;32m/Users/oliveroayda/Dropbox (Maestral)/New Physics/Honours/Project/Code/light-curve.ipynb Cell 4'\u001b[0m in \u001b[0;36mmodel\u001b[0;34m(time_scale, amp)\u001b[0m\n\u001b[1;32m     <a href='vscode-notebook-cell:/Users/oliveroayda/Dropbox%20%28Maestral%29/New%20Physics/Honours/Project/Code/light-curve.ipynb#ch0000003?line=12'>13</a>\u001b[0m         t \u001b[39m=\u001b[39m t \u001b[39m+\u001b[39m \u001b[39m1\u001b[39m\n\u001b[1;32m     <a href='vscode-notebook-cell:/Users/oliveroayda/Dropbox%20%28Maestral%29/New%20Physics/Honours/Project/Code/light-curve.ipynb#ch0000003?line=13'>14</a>\u001b[0m         \u001b[39m# print('Here! t = ' + str(t))\u001b[39;00m\n\u001b[1;32m     <a href='vscode-notebook-cell:/Users/oliveroayda/Dropbox%20%28Maestral%29/New%20Physics/Honours/Project/Code/light-curve.ipynb#ch0000003?line=14'>15</a>\u001b[0m     \u001b[39melse\u001b[39;00m:\n\u001b[0;32m---> <a href='vscode-notebook-cell:/Users/oliveroayda/Dropbox%20%28Maestral%29/New%20Physics/Honours/Project/Code/light-curve.ipynb#ch0000003?line=15'>16</a>\u001b[0m         s[t] \u001b[39m=\u001b[39m s[t\u001b[39m-\u001b[39m\u001b[39m1\u001b[39m]\u001b[39m*\u001b[39mnp\u001b[39m.\u001b[39;49mexp(\u001b[39m-\u001b[39;49mdelta_t\u001b[39m/\u001b[39;49mtime_scale) \u001b[39m+\u001b[39m np\u001b[39m.\u001b[39mrandom\u001b[39m.\u001b[39mnormal(loc\u001b[39m=\u001b[39m\u001b[39m0\u001b[39m,scale\u001b[39m=\u001b[39msigma\u001b[39m*\u001b[39mnp\u001b[39m.\u001b[39msqrt(\u001b[39m1\u001b[39m\u001b[39m-\u001b[39mnp\u001b[39m.\u001b[39mexp(\u001b[39m-\u001b[39m\u001b[39m2\u001b[39m\u001b[39m*\u001b[39mdelta_t\u001b[39m/\u001b[39mtime_scale)))\n\u001b[1;32m     <a href='vscode-notebook-cell:/Users/oliveroayda/Dropbox%20%28Maestral%29/New%20Physics/Honours/Project/Code/light-curve.ipynb#ch0000003?line=16'>17</a>\u001b[0m         t \u001b[39m=\u001b[39m t \u001b[39m+\u001b[39m \u001b[39m1\u001b[39m\n\u001b[1;32m     <a href='vscode-notebook-cell:/Users/oliveroayda/Dropbox%20%28Maestral%29/New%20Physics/Honours/Project/Code/light-curve.ipynb#ch0000003?line=17'>18</a>\u001b[0m \u001b[39mreturn\u001b[39;00m s \u001b[39m+\u001b[39m \u001b[39m18\u001b[39m\n",
      "\u001b[0;31mKeyboardInterrupt\u001b[0m: "
     ]
    }
   ],
   "source": [
    "# idk how Bayesian model fitting will work for a damped random walk... but anyway\n",
    "import scipy.stats as sts\n",
    "import dynesty\n",
    "# from dynesty import plotting as dyplot\n",
    "\n",
    "def model(time_scale,amp):\n",
    "    sigma = amp*np.sqrt(time_scale/2)\n",
    "    t=0\n",
    "    s = np.zeros(2000)\n",
    "    while t < 2000:\n",
    "        if t == 0:\n",
    "            s[t] = np.random.normal(loc=0,scale=sigma) #for the 0th point, draw from Gaussian deviate of width sigma\n",
    "            t = t + 1\n",
    "            # print('Here! t = ' + str(t))\n",
    "        else:\n",
    "            s[t] = s[t-1]*np.exp(-delta_t/time_scale) + np.random.normal(loc=0,scale=sigma*np.sqrt(1-np.exp(-2*delta_t/time_scale)))\n",
    "            t = t + 1\n",
    "    return s + 18\n",
    "            # print('Here! t = ' + str(t))\n",
    "\n",
    "def prior_transform(uTheta):\n",
    "    uTime_scale, uAmp = uTheta\n",
    "    time_scale = 150*uTime_scale # uniform between 0 and 150\n",
    "    amp = 0.1*uAmp # uniform between 0 and 0.1\n",
    "    return time_scale, amp\n",
    "\n",
    "def lnlike(Theta):\n",
    "    time_scale, amp = Theta\n",
    "    y_val = model(time_scale,amp)\n",
    "    return sum(sts.norm.logpdf(y,loc=y_val,scale=sigma))\n",
    "    \n",
    "dsampler = dynesty.DynamicNestedSampler(lnlike, prior_transform, ndim=2)\n",
    "dsampler.run_nested(print_progress=True)\n",
    "\n",
    "\n",
    "    "
   ]
  },
  {
   "cell_type": "code",
   "execution_count": 72,
   "metadata": {},
   "outputs": [
    {
     "data": {
      "text/plain": [
       "0.02071170391231226"
      ]
     },
     "execution_count": 72,
     "metadata": {},
     "output_type": "execute_result"
    }
   ],
   "source": [
    "(s*s).mean()"
   ]
  },
  {
   "cell_type": "code",
   "execution_count": 74,
   "metadata": {},
   "outputs": [
    {
     "data": {
      "text/plain": [
       "0.02050307097315799"
      ]
     },
     "execution_count": 74,
     "metadata": {},
     "output_type": "execute_result"
    }
   ],
   "source": [
    "s.var()"
   ]
  },
  {
   "cell_type": "code",
   "execution_count": 79,
   "metadata": {},
   "outputs": [
    {
     "data": {
      "text/plain": [
       "array(0.00088429)"
      ]
     },
     "execution_count": 79,
     "metadata": {},
     "output_type": "execute_result"
    }
   ],
   "source": []
  },
  {
   "cell_type": "code",
   "execution_count": null,
   "metadata": {},
   "outputs": [],
   "source": []
  }
 ],
 "metadata": {
  "kernelspec": {
   "display_name": "Python 3.10.2 64-bit",
   "language": "python",
   "name": "python3"
  },
  "language_info": {
   "codemirror_mode": {
    "name": "ipython",
    "version": 3
   },
   "file_extension": ".py",
   "mimetype": "text/x-python",
   "name": "python",
   "nbconvert_exporter": "python",
   "pygments_lexer": "ipython3",
   "version": "3.10.2"
  },
  "orig_nbformat": 4,
  "vscode": {
   "interpreter": {
    "hash": "7e654a7004fcff421f41cb439b0ecbc98126c407211f4c6bd60d4a51fe03e1d5"
   }
  }
 },
 "nbformat": 4,
 "nbformat_minor": 2
}
