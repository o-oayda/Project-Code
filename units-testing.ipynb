{
 "cells": [
  {
   "cell_type": "code",
   "execution_count": 1,
   "metadata": {},
   "outputs": [],
   "source": [
    "import numpy as np\n",
    "\n",
    "def conv2siunitx(val, err, err_points=1):\n",
    "    val = f'{val:.20e}'.split('e')\n",
    "    err = f'{err:.20e}'.split('e') \n",
    "    first_uncertain = int(val[1]) - int(err[1]) + err_points\n",
    "\n",
    "    my_val = f'{np.round(float(val[0]), first_uncertain-1):.10f}'\n",
    "    my_err = f'{np.round(float(err[0]), err_points-1):.10f}'.replace('.','')\n",
    "    # Avoid 1. and write 1 instead\n",
    "    if first_uncertain > 1:\n",
    "        first_uncertain = first_uncertain + 1\n",
    "\n",
    "    return(f'{my_val[:first_uncertain]}({my_err[:err_points]})e{val[1]}')"
   ]
  },
  {
   "cell_type": "code",
   "execution_count": 21,
   "metadata": {},
   "outputs": [
    {
     "name": "stdout",
     "output_type": "stream",
     "text": [
      "['1.00000000000000005551', '-01']\n",
      "['1.00000000000000000000', '+00']\n",
      "0\n"
     ]
    }
   ],
   "source": [
    "val = 0.1\n",
    "err = 1\n",
    "err_points = 1\n",
    "\n",
    "val = f'{val:.20e}'.split('e')\n",
    "err = f'{err:.20e}'.split('e')\n",
    "first_uncertain = int(val[1]) - int(err[1]) + err_points\n",
    "\n",
    "print(val)\n",
    "print(err)\n",
    "print(first_uncertain)"
   ]
  },
  {
   "cell_type": "code",
   "execution_count": 24,
   "metadata": {},
   "outputs": [
    {
     "name": "stdout",
     "output_type": "stream",
     "text": [
      "1.0000000000\n",
      "10000000000\n"
     ]
    }
   ],
   "source": [
    "my_val = f'{np.round(float(val[0]), first_uncertain-1):.10f}'\n",
    "my_err = f'{np.round(float(err[0]), err_points-1):.10f}'.replace('.','')\n",
    "\n",
    "if first_uncertain > 1:\n",
    "        first_uncertain = first_uncertain + 1\n",
    "elif first_uncertain == 0:\n",
    "    first_uncertain = 1\n",
    "\n",
    "print(my_val)\n",
    "print(my_err)"
   ]
  },
  {
   "cell_type": "code",
   "execution_count": 16,
   "metadata": {},
   "outputs": [
    {
     "data": {
      "text/plain": [
       "'0(1)e+00'"
      ]
     },
     "execution_count": 16,
     "metadata": {},
     "output_type": "execute_result"
    }
   ],
   "source": [
    "(f'{my_val[:first_uncertain]}({my_err[:err_points]})e{val[1]}')\n"
   ]
  },
  {
   "cell_type": "code",
   "execution_count": null,
   "metadata": {},
   "outputs": [],
   "source": []
  }
 ],
 "metadata": {
  "kernelspec": {
   "display_name": "Python 3.9.10 ('base')",
   "language": "python",
   "name": "python3"
  },
  "language_info": {
   "codemirror_mode": {
    "name": "ipython",
    "version": 3
   },
   "file_extension": ".py",
   "mimetype": "text/x-python",
   "name": "python",
   "nbconvert_exporter": "python",
   "pygments_lexer": "ipython3",
   "version": "3.9.10"
  },
  "orig_nbformat": 4,
  "vscode": {
   "interpreter": {
    "hash": "c6e4e9f98eb68ad3b7c296f83d20e6de614cb42e90992a65aa266555a3137d0d"
   }
  }
 },
 "nbformat": 4,
 "nbformat_minor": 2
}
