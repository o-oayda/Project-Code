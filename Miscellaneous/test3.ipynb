{
 "cells": [
  {
   "cell_type": "code",
   "execution_count": 3,
   "metadata": {},
   "outputs": [
    {
     "name": "stdout",
     "output_type": "stream",
     "text": [
      "Starting 4 engines with <class 'ipyparallel.cluster.launcher.LocalEngineSetLauncher'>\n"
     ]
    },
    {
     "data": {
      "application/vnd.jupyter.widget-view+json": {
       "model_id": "4796308455924bc2aee663165224d291",
       "version_major": 2,
       "version_minor": 0
      },
      "text/plain": [
       "  0%|          | 0/4 [00:00<?, ?engine/s]"
      ]
     },
     "metadata": {},
     "output_type": "display_data"
    },
    {
     "name": "stdout",
     "output_type": "stream",
     "text": [
      "[0, 1, 2, 3]\n",
      "importing numpy on engine(s)\n",
      "importing scipy on engine(s)\n",
      "importing stats from scipy on engine(s)\n",
      "importing dynesty on engine(s)\n"
     ]
    },
    {
     "name": "stderr",
     "output_type": "stream",
     "text": [
      "3491it [00:38, 39.42it/s, bound: 0 | nc: 13 | ncall: 15415 | eff(%): 22.647 | loglstar:   -inf < -4.362 <    inf | logz: -8.321 +/-  0.045 | dlogz:  4.861 >  1.509]  "
     ]
    }
   ],
   "source": [
    "import ipyparallel as ipp\n",
    "import scipy\n",
    "\n",
    "\n",
    "class Pool(object):\n",
    "\n",
    "    def __init__(self, dview, nprocs):\n",
    "        self.dview = dview\n",
    "        self.size = nprocs\n",
    "\n",
    "    def map(self, function, tasks):\n",
    "        return self.dview.map_sync(function, tasks)\n",
    "\n",
    "#likelihood function.\n",
    "\n",
    "\n",
    "def loglikelihood(x):\n",
    "\n",
    "    #2 uncorrelated gaussians with mean : 1.0 and 6.0 and standard deviations: 1.0 and 0.5\n",
    "    L = (-0.5*(((x[6]-1.0)/1.0)**2)\n",
    "         - 0.5*(((x[4]-6.0)/0.5)**2)\n",
    "         - numpy.log(1.0*numpy.sqrt(2*numpy.pi))\n",
    "         - numpy.log(0.5*numpy.sqrt(2*numpy.pi))\n",
    "         )\n",
    "\n",
    "    return L\n",
    "\n",
    "#prior transforms\n",
    "\n",
    "\n",
    "def prior_transform(u):\n",
    "\n",
    "    x = numpy.array(u)\n",
    "\n",
    "    for i, s in enumerate(sampling_parameters):\n",
    "        if s[-1] == 'Normal':\n",
    "            mean = s[1]\n",
    "            sigma = s[2]\n",
    "            x[i] = scipy.stats.norm.ppf(u[i], loc=mean, scale=sigma)\n",
    "        elif s[-1] == 'Turncated_Normal':\n",
    "            mean = s[1]\n",
    "            sigma = s[2]\n",
    "            low = (s[3]-mean)/sigma\n",
    "            high = (s[4]-mean)/sigma\n",
    "            x[i] = scipy.stats.truncnorm.ppf(\n",
    "                u[i], low, high, loc=mean, scale=sigma)\n",
    "        elif s[-1] == 'Uniform':\n",
    "            x[i] = (s[2]-s[1])*u[i] + s[1]\n",
    "\n",
    "    return x\n",
    "\n",
    "\n",
    "#a tuple of parameters to sample from\n",
    "sampling_parameters = [('Porb', 8.46, 0.0000230, 'Normal'),\n",
    "                       ('feh', -1.06, 0.3, -1.014, 0.537, 'Truncated_normal'),\n",
    "                       ('eccentricity', 0.042, 0.01,\n",
    "                        0.0, 0.45, 'Truncated_normal'),\n",
    "                       ('Wdisk', 2*scipy.pi/14, 2*scipy.pi/1.4, 'Uniform'),\n",
    "                       ('logQ', 5.0, 12.0, 'Uniform'),\n",
    "                       ('primary_mass', 0.5, 1.2, 'Uniform'),\n",
    "                       ('age', 1e-3, 10.0, 'Uniform')]\n",
    "\n",
    "ndim = len(sampling_parameters)\n",
    "\n",
    "#Starting Client\n",
    "cl = ipp.Cluster(n=4)\n",
    "rc = cl.start_and_connect_sync()\n",
    "\n",
    "# rc = ipp.Client()\n",
    "nprocs = len(rc.ids)\n",
    "print(rc.ids)\n",
    "\n",
    "dview = rc[:]\n",
    "dview.use_dill()\n",
    "\n",
    "dview['sampling_parameters'] = sampling_parameters\n",
    "\n",
    "#sync imports on all engines\n",
    "with dview.sync_imports():\n",
    "    import numpy\n",
    "    import scipy\n",
    "    from scipy import stats\n",
    "    import dynesty\n",
    "\n",
    "pool = Pool(dview, nprocs)\n",
    "\n",
    "dsampler = dynesty.NestedSampler(loglikelihood, prior_transform,\n",
    "                                 ndim, nlive=1500, pool=pool)\n",
    "\n",
    "dsampler.run_nested()\n",
    "dresults = dsampler.results\n",
    "dresults.summary()\n"
   ]
  },
  {
   "cell_type": "code",
   "execution_count": null,
   "metadata": {},
   "outputs": [],
   "source": []
  }
 ],
 "metadata": {
  "interpreter": {
   "hash": "6a2bc8bf2eb8d76a03606ca7a26bbc13a7ff08745fdc124cd5435ad709dc6da9"
  },
  "kernelspec": {
   "display_name": "Python 3.10.2 64-bit",
   "language": "python",
   "name": "python3"
  },
  "language_info": {
   "codemirror_mode": {
    "name": "ipython",
    "version": 3
   },
   "file_extension": ".py",
   "mimetype": "text/x-python",
   "name": "python",
   "nbconvert_exporter": "python",
   "pygments_lexer": "ipython3",
   "version": "3.10.2"
  },
  "orig_nbformat": 4
 },
 "nbformat": 4,
 "nbformat_minor": 2
}
