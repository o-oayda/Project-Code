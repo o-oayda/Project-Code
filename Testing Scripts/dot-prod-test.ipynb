{
 "cells": [
  {
   "cell_type": "code",
   "execution_count": 1,
   "metadata": {},
   "outputs": [],
   "source": [
    "import math\n",
    "import numpy as np\n",
    "import numba as nb"
   ]
  },
  {
   "cell_type": "code",
   "execution_count": 2,
   "metadata": {},
   "outputs": [],
   "source": [
    "def sample_spherical(npoints, ndim=3):\n",
    "    vec = np.random.randn(ndim, npoints)\n",
    "    vec /= np.linalg.norm(vec, axis=0)\n",
    "    return vec\n",
    "\n",
    "def sph2cart(obsPolar):  # r=1\n",
    "    x = np.sin(obsPolar[0]) * np.cos(obsPolar[1])\n",
    "    y = np.sin(obsPolar[0]) * np.sin(obsPolar[1])\n",
    "    z = np.cos(obsPolar[0])\n",
    "    return (x, y, z)\n",
    "\n",
    "def abberation_angle(angle,obsSpeed):\n",
    "    abberationAngle = np.arccos((obsSpeed + np.cos(angle))/(obsSpeed*np.cos(angle)+1)) # changed from math.acos to np trig\n",
    "    return abberationAngle\n",
    "\n",
    "def unit_norm_vector(v1,v2):\n",
    "    normVector = np.cross(v1,v2)\n",
    "    unitNormVector = normVector/np.linalg.norm(normVector)\n",
    "    return unitNormVector\n",
    "\n",
    "@nb.njit(fastmath=True, error_model=\"numpy\", parallel=False)\n",
    "def angle(v1, v2):\n",
    "    #Check the dimensions, this may also have an effect on SIMD-vectorization\n",
    "    assert v1.shape[1] == 3\n",
    "    assert v2.shape[1] == 3\n",
    "    res = np.empty(v1.shape[0])\n",
    "\n",
    "    for i in nb.prange(v1.shape[0]):  # v2 is now the observer vector\n",
    "        dot = 0.\n",
    "        a = 0.\n",
    "        b = 0.\n",
    "        for j in range(3):\n",
    "            dot += v1[i, j]*v2[0, j]\n",
    "            a += v1[i, j]**2\n",
    "            b += v2[0, j]**2\n",
    "        res[i] = np.arccos(dot/(np.sqrt(a*b)))\n",
    "        # for j in range(3):\n",
    "        #     dot+=v1[i,j]*v2[i,j]\n",
    "        #     a+=v1[i,j]**2\n",
    "        #     b+=v2[i,j]**2\n",
    "        # res[i]=np.arccos(dot/(np.sqrt(a*b)))\n",
    "    return res\n",
    "\n",
    "def fastRotateMatrixNew(axis, theta):\n",
    "    # from top post in\n",
    "    # https://stackoverflow.com/questions/6802577/rotation-of-3d-vector\n",
    "    \"\"\"\n",
    "    Return the rotation matrix associated with counterclockwise rotation about\n",
    "    the given axis by theta radians.\n",
    "    \"\"\"\n",
    "    axis = np.asarray(axis)\n",
    "    axis = axis / np.linalg.norm(axis,axis=1)[:,np.newaxis] # vectorised yes\n",
    "    a = np.cos(theta / 2.0)\n",
    "    vals = -axis * np.sin(theta / 2.0)[:,np.newaxis]\n",
    "    b = vals[:,0]\n",
    "    c = vals[:,1]\n",
    "    d = vals[:,2]\n",
    "    aa, bb, cc, dd = a * a, b * b, c * c, d * d\n",
    "    bc, ad, ac, ab, bd, cd = b * c, a * d, a * c, a * b, b * d, c * d\n",
    "    return np.array([[aa + bb - cc - dd, 2 * (bc + ad), 2 * (bd - ac)],\n",
    "                     [2 * (bc - ad), aa + cc - bb - dd, 2 * (cd + ab)],\n",
    "                     [2 * (bd + ac), 2 * (cd - ab), aa + dd - bb - cc]])\n",
    "\n",
    "def fastRotateMatrixOld(axis,theta):\n",
    "    # from top post in\n",
    "    # https://stackoverflow.com/questions/6802577/rotation-of-3d-vector\n",
    "    \"\"\"\n",
    "    Return the rotation matrix associated with counterclockwise rotation about\n",
    "    the given axis by theta radians.\n",
    "    \"\"\"\n",
    "    axis = np.asarray(axis)\n",
    "    axis = axis / math.sqrt(np.dot(axis, axis))\n",
    "    a = math.cos(theta / 2.0)\n",
    "    b, c, d = -axis * math.sin(theta / 2.0)\n",
    "    aa, bb, cc, dd = a * a, b * b, c * c, d * d\n",
    "    bc, ad, ac, ab, bd, cd = b * c, a * d, a * c, a * b, b * d, c * d\n",
    "    return np.array([[aa + bb - cc - dd, 2 * (bc + ad), 2 * (bd - ac)],\n",
    "                     [2 * (bc - ad), aa + cc - bb - dd, 2 * (cd + ab)],\n",
    "                     [2 * (bd + ac), 2 * (cd - ab), aa + dd - bb - cc]])"
   ]
  },
  {
   "cell_type": "code",
   "execution_count": 29,
   "metadata": {},
   "outputs": [
    {
     "name": "stdout",
     "output_type": "stream",
     "text": [
      "here\n",
      "(3, 3, 10000000)\n",
      "old slow method now...\n"
     ]
    }
   ],
   "source": [
    "n = 10**7\n",
    "\n",
    "obsSpeed = 0.001\n",
    "obsPolar = (np.pi/2 - 30*np.pi/180, np.pi/2)  # pol, az nominally 0.7,4\n",
    "observerVector = sph2cart(obsPolar)\n",
    "observerVector2 = np.asarray([observerVector])\n",
    "\n",
    "xi, yi, zi = sample_spherical(n)\n",
    "initialPointsVectors = np.asarray([xi, yi, zi]).T\n",
    "angles = angle(initialPointsVectors,observerVector2)\n",
    "deltaAngles = -(abberation_angle(angles, obsSpeed) - angles)\n",
    "rotAxes = unit_norm_vector(np.asarray((xi,yi,zi)).T,observerVector2)\n",
    "\n",
    "rotatedPoints = np.zeros((len(xi),3))\n",
    "print('here')\n",
    "\n",
    "rotationMatrices = fastRotateMatrixNew(rotAxes,deltaAngles)\n",
    "print(np.shape(rotationMatrices))\n",
    "# rotatedPoints = np.dot(rotationMatrices,(xi,yi,zi))\n",
    "\n",
    "print('old slow method now...')\n",
    "for i in range(0, len(rotatedPoints)):\n",
    "    rotationMatrices2 = fastRotateMatrixOld(rotAxes[i],deltaAngles[i])\n",
    "    rotatedPoints[i] = np.dot(rotationMatrices2,(xi[i], yi[i], zi[i]))\n",
    "\n",
    "# print()"
   ]
  },
  {
   "cell_type": "code",
   "execution_count": 30,
   "metadata": {},
   "outputs": [
    {
     "data": {
      "text/plain": [
       "array([[ True,  True,  True],\n",
       "       [ True,  True,  True],\n",
       "       [ True,  True,  True],\n",
       "       ...,\n",
       "       [ True,  True,  True],\n",
       "       [ True,  True,  True],\n",
       "       [ True,  True,  True]])"
      ]
     },
     "execution_count": 30,
     "metadata": {},
     "output_type": "execute_result"
    }
   ],
   "source": [
    "# print(rotationMatrices2)\n",
    "# print(rotationMatrices[:,:,-1])\n",
    "\n",
    "# np.dot(rotationMatrices,np.asarray([xi,yi,zi]).T)\n",
    "# np.matmul(rotationMatrices,np.asarray([xi,yi,zi]).T)\n",
    "# print(np.einsum('ijk,hj->kj',rotationMatrices,np.asarray([xi,yi,zi]).T))\n",
    "\n",
    "# rotatedPoints2 = np.zeros((len(xi),3))\n",
    "# for i in range(0,n):\n",
    "#     rotatedPoints2[i,:] = np.dot(rotationMatrices[:,:,i],(xi[i], yi[i], zi[i]))\n",
    "\n",
    "# rotatedPoints2 = np.tensordot(rotationMatrices,np.asarray([xi,yi,zi]).T,axes=1)\n",
    "rotatedPoints2 = np.einsum('ijk,kj->ki',rotationMatrices,np.asarray([xi,yi,zi]).T)\n",
    "\n",
    "rotatedPoints2 == rotatedPoints\n"
   ]
  },
  {
   "cell_type": "code",
   "execution_count": 46,
   "metadata": {},
   "outputs": [
    {
     "data": {
      "text/plain": [
       "array([0.00011436, 0.00036969, 0.0003861 , ..., 0.00038649, 0.00021508,\n",
       "       0.00017742])"
      ]
     },
     "execution_count": 46,
     "metadata": {},
     "output_type": "execute_result"
    }
   ],
   "source": [
    "axis = rotAxes\n",
    "\n",
    "# axis2 = axis / math.sqrt(np.dot(axis, axis))\n",
    "\n",
    "# axis3 = axis / math.sqrt(np.einsum('ij,kj->i',axis,axis))\n",
    "np.sqrt(np.einsum('ij,ij->i',axis,axis))"
   ]
  },
  {
   "cell_type": "code",
   "execution_count": 25,
   "metadata": {},
   "outputs": [
    {
     "data": {
      "text/plain": [
       "0.07036777293114156"
      ]
     },
     "execution_count": 25,
     "metadata": {},
     "output_type": "execute_result"
    }
   ],
   "source": [
    "math.sqrt(np.dot(axis[3],axis[3]))"
   ]
  },
  {
   "cell_type": "code",
   "execution_count": 88,
   "metadata": {},
   "outputs": [
    {
     "data": {
      "text/plain": [
       "array([14, 32, 50])"
      ]
     },
     "execution_count": 88,
     "metadata": {},
     "output_type": "execute_result"
    }
   ],
   "source": [
    "A = [[1,2,3],[4,5,6],[7,8,9]]\n",
    "B = [1,2,3]\n",
    "np.dot(A,B)"
   ]
  },
  {
   "cell_type": "code",
   "execution_count": 15,
   "metadata": {},
   "outputs": [],
   "source": [
    "a = np.arange(25).reshape(5,5)\n",
    "b = np.arange(5)\n",
    "c = np.arange(6).reshape(2,3)"
   ]
  },
  {
   "cell_type": "code",
   "execution_count": 107,
   "metadata": {},
   "outputs": [
    {
     "name": "stdout",
     "output_type": "stream",
     "text": [
      "[[ 0  1  2  3  4]\n",
      " [ 5  6  7  8  9]\n",
      " [10 11 12 13 14]\n",
      " [15 16 17 18 19]\n",
      " [20 21 22 23 24]]\n",
      "[0 1 2 3 4]\n",
      "[[0 1 2]\n",
      " [3 4 5]]\n"
     ]
    }
   ],
   "source": [
    "print(a)\n",
    "print(b)\n",
    "print(c)"
   ]
  },
  {
   "cell_type": "code",
   "execution_count": 16,
   "metadata": {},
   "outputs": [
    {
     "data": {
      "text/plain": [
       "array([ 30,  80, 130, 180, 230])"
      ]
     },
     "execution_count": 16,
     "metadata": {},
     "output_type": "execute_result"
    }
   ],
   "source": [
    "np.dot(a,b)"
   ]
  },
  {
   "cell_type": "code",
   "execution_count": 157,
   "metadata": {},
   "outputs": [
    {
     "data": {
      "text/plain": [
       "array([[ 0.81059527, -0.2928034 ,  0.50715036],\n",
       "       [ 0.97415167,  0.11294747, -0.19563075]])"
      ]
     },
     "execution_count": 157,
     "metadata": {},
     "output_type": "execute_result"
    }
   ],
   "source": [
    "rotAxes / np.linalg.norm(rotAxes,axis=1)[:,np.newaxis]"
   ]
  },
  {
   "cell_type": "code",
   "execution_count": 156,
   "metadata": {},
   "outputs": [
    {
     "data": {
      "text/plain": [
       "array([[0.74611465],\n",
       "       [0.66581749]])"
      ]
     },
     "execution_count": 156,
     "metadata": {},
     "output_type": "execute_result"
    }
   ],
   "source": [
    "np.linalg.norm(rotAxes,axis=1)[:,np.newaxis]"
   ]
  },
  {
   "cell_type": "code",
   "execution_count": 195,
   "metadata": {},
   "outputs": [
    {
     "data": {
      "text/plain": [
       "array([[-0.2178238 , -0.16448407, -0.96202795],\n",
       "       [ 0.15922211, -0.9102752 ,  0.38216145],\n",
       "       [-0.36594658,  0.55138452, -0.74970541],\n",
       "       ...,\n",
       "       [ 0.36296316,  0.93135704, -0.028841  ],\n",
       "       [-0.43633397, -0.05668245, -0.89799764],\n",
       "       [-0.05726274, -0.90700167,  0.41721572]])"
      ]
     },
     "execution_count": 195,
     "metadata": {},
     "output_type": "execute_result"
    }
   ],
   "source": [
    "np.asarray([xi,yi,zi]).T"
   ]
  },
  {
   "cell_type": "code",
   "execution_count": 15,
   "metadata": {},
   "outputs": [
    {
     "data": {
      "text/plain": [
       "array([[-0.15422132,  0.98522069, -0.07453848],\n",
       "       [ 0.93082965, -0.22378097, -0.288926  ],\n",
       "       [-0.49015541, -0.82408287, -0.28396319],\n",
       "       [-0.10440322, -0.95124145,  0.29024072],\n",
       "       [-0.00689462,  0.86991227, -0.4931583 ]])"
      ]
     },
     "execution_count": 15,
     "metadata": {},
     "output_type": "execute_result"
    }
   ],
   "source": [
    "(np.asarray([xi,yi,zi]).T)"
   ]
  },
  {
   "cell_type": "code",
   "execution_count": 34,
   "metadata": {},
   "outputs": [
    {
     "name": "stdout",
     "output_type": "stream",
     "text": [
      "[[ 1.00000000e+00  5.97088615e-06  3.44386300e-06]\n",
      " [-5.96791592e-06  9.99999629e-01 -8.61825435e-04]\n",
      " [-3.44900759e-06  8.61825415e-04  9.99999629e-01]]\n",
      "(0.9308296536251841, -0.22378096583762, -0.2889260030886832)\n"
     ]
    },
    {
     "data": {
      "text/plain": [
       "array([ 0.93082732, -0.22353743, -0.28912197])"
      ]
     },
     "execution_count": 34,
     "metadata": {},
     "output_type": "execute_result"
    }
   ],
   "source": [
    "print(rotationMatrices2)\n",
    "print((xi[1],yi[1],zi[1]))\n",
    "np.dot(rotationMatrices2,(xi[1], yi[1], zi[1]))"
   ]
  },
  {
   "cell_type": "code",
   "execution_count": null,
   "metadata": {},
   "outputs": [],
   "source": []
  }
 ],
 "metadata": {
  "kernelspec": {
   "display_name": "Python 3.9.10 ('base')",
   "language": "python",
   "name": "python3"
  },
  "language_info": {
   "codemirror_mode": {
    "name": "ipython",
    "version": 3
   },
   "file_extension": ".py",
   "mimetype": "text/x-python",
   "name": "python",
   "nbconvert_exporter": "python",
   "pygments_lexer": "ipython3",
   "version": "3.9.10"
  },
  "orig_nbformat": 4,
  "vscode": {
   "interpreter": {
    "hash": "c6e4e9f98eb68ad3b7c296f83d20e6de614cb42e90992a65aa266555a3137d0d"
   }
  }
 },
 "nbformat": 4,
 "nbformat_minor": 2
}
