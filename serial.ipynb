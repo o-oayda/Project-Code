{
 "cells": [
  {
   "cell_type": "code",
   "execution_count": 3,
   "metadata": {},
   "outputs": [
    {
     "name": "stderr",
     "output_type": "stream",
     "text": [
      "4954it [00:02, 1994.45it/s, +1500 | bound: 0 | nc: 1 | ncall: 39420 | eff(%): 16.372 | loglstar:   -inf < -1.146 <    inf | logz: -4.500 +/-  0.041 | dlogz:  0.001 >  1.509]"
     ]
    },
    {
     "name": "stdout",
     "output_type": "stream",
     "text": [
      "Summary\n",
      "=======\n",
      "nlive: 1500\n",
      "niter: 4954\n",
      "ncall: 39420\n",
      "eff(%): 16.372\n",
      "logz: -4.500 +/-  0.041\n"
     ]
    },
    {
     "name": "stderr",
     "output_type": "stream",
     "text": [
      "\n"
     ]
    }
   ],
   "source": [
    "import dynesty\n",
    "import numpy\n",
    "from scipy import stats\n",
    "\n",
    "#likelihood function.\n",
    "\n",
    "\n",
    "def loglikelihood(x):\n",
    "\n",
    "    #2 uncorrelated gaussians with mean : 1.0 and 6.0 and standard deviations: 1.0 and 0.5\n",
    "    L = (-0.5*(((x[6]-1.0)/1.0)**2)\n",
    "         - 0.5*(((x[4]-6.0)/0.5)**2)\n",
    "         - numpy.log(1.0*numpy.sqrt(2*numpy.pi))\n",
    "         - numpy.log(0.5*numpy.sqrt(2*numpy.pi))\n",
    "         )\n",
    "\n",
    "    return L\n",
    "\n",
    "#prior transforms\n",
    "\n",
    "\n",
    "def prior_transform(u):\n",
    "\n",
    "    x = numpy.array(u)\n",
    "\n",
    "    for i, s in enumerate(sampling_parameters):\n",
    "        if s[-1] == 'Normal':\n",
    "            mean = s[1]\n",
    "            sigma = s[2]\n",
    "            x[i] = scipy.stats.norm.ppf(u[i], loc=mean, scale=sigma)\n",
    "        elif s[-1] == 'Turncated_Normal':\n",
    "            mean = s[1]\n",
    "            sigma = s[2]\n",
    "            low = (s[3]-mean)/sigma\n",
    "            high = (s[4]-mean)/sigma\n",
    "            x[i] = scipy.stats.truncnorm.ppf(\n",
    "                u[i], low, high, loc=mean, scale=sigma)\n",
    "        elif s[-1] == 'Uniform':\n",
    "            x[i] = (s[2]-s[1])*u[i] + s[1]\n",
    "\n",
    "    return x\n",
    "\n",
    "\n",
    "#a tuple of parameters to sample from\n",
    "sampling_parameters = [('Porb', 8.46, 0.0000230, 'Normal'),\n",
    "                       ('feh', -1.06, 0.3, -1.014, 0.537, 'Truncated_normal'),\n",
    "                       ('eccentricity', 0.042, 0.01,\n",
    "                        0.0, 0.45, 'Truncated_normal'),\n",
    "                       ('Wdisk', 2*scipy.pi/14, 2*scipy.pi/1.4, 'Uniform'),\n",
    "                       ('logQ', 5.0, 12.0, 'Uniform'),\n",
    "                       ('primary_mass', 0.5, 1.2, 'Uniform'),\n",
    "                       ('age', 1e-3, 10.0, 'Uniform')]\n",
    "\n",
    "ndim = len(sampling_parameters)\n",
    "\n",
    "dsampler = dynesty.NestedSampler(loglikelihood, prior_transform,\n",
    "                                 ndim, nlive=1500)\n",
    "\n",
    "dsampler.run_nested()\n",
    "dresults = dsampler.results\n",
    "dresults.summary()\n"
   ]
  },
  {
   "cell_type": "code",
   "execution_count": null,
   "metadata": {},
   "outputs": [],
   "source": []
  }
 ],
 "metadata": {
  "interpreter": {
   "hash": "c6e4e9f98eb68ad3b7c296f83d20e6de614cb42e90992a65aa266555a3137d0d"
  },
  "kernelspec": {
   "display_name": "Python 3.9.10 ('base')",
   "language": "python",
   "name": "python3"
  },
  "language_info": {
   "codemirror_mode": {
    "name": "ipython",
    "version": 3
   },
   "file_extension": ".py",
   "mimetype": "text/x-python",
   "name": "python",
   "nbconvert_exporter": "python",
   "pygments_lexer": "ipython3",
   "version": "3.9.10"
  },
  "orig_nbformat": 4
 },
 "nbformat": 4,
 "nbformat_minor": 2
}
